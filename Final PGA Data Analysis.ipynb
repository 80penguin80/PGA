{
 "cells": [
  {
   "cell_type": "code",
   "execution_count": 1,
   "metadata": {},
   "outputs": [
    {
     "data": {
      "text/html": [
       "<div>\n",
       "<style scoped>\n",
       "    .dataframe tbody tr th:only-of-type {\n",
       "        vertical-align: middle;\n",
       "    }\n",
       "\n",
       "    .dataframe tbody tr th {\n",
       "        vertical-align: top;\n",
       "    }\n",
       "\n",
       "    .dataframe thead th {\n",
       "        text-align: right;\n",
       "    }\n",
       "</style>\n",
       "<table border=\"1\" class=\"dataframe\">\n",
       "  <thead>\n",
       "    <tr style=\"text-align: right;\">\n",
       "      <th></th>\n",
       "      <th>PLAYER NAME</th>\n",
       "      <th>ROUNDS</th>\n",
       "      <th>DISTANCE</th>\n",
       "      <th>TOURNAMENT</th>\n",
       "      <th>ROUND</th>\n",
       "      <th>HOLE</th>\n",
       "      <th>COURSE</th>\n",
       "      <th>YEAR</th>\n",
       "    </tr>\n",
       "  </thead>\n",
       "  <tbody>\n",
       "    <tr>\n",
       "      <th>0</th>\n",
       "      <td>Lee Westwood</td>\n",
       "      <td>65</td>\n",
       "      <td>425</td>\n",
       "      <td>Byron Nelson</td>\n",
       "      <td>3</td>\n",
       "      <td>8</td>\n",
       "      <td>894</td>\n",
       "      <td>2021</td>\n",
       "    </tr>\n",
       "    <tr>\n",
       "      <th>1</th>\n",
       "      <td>Cameron Champ</td>\n",
       "      <td>79</td>\n",
       "      <td>424</td>\n",
       "      <td>Sentry</td>\n",
       "      <td>4</td>\n",
       "      <td>7</td>\n",
       "      <td>656</td>\n",
       "      <td>2021</td>\n",
       "    </tr>\n",
       "    <tr>\n",
       "      <th>2</th>\n",
       "      <td>Connor Syme</td>\n",
       "      <td>2</td>\n",
       "      <td>423</td>\n",
       "      <td>U.S. Open(2020)</td>\n",
       "      <td>2</td>\n",
       "      <td>4</td>\n",
       "      <td>891</td>\n",
       "      <td>2021</td>\n",
       "    </tr>\n",
       "    <tr>\n",
       "      <th>3</th>\n",
       "      <td>Dustin Johnson</td>\n",
       "      <td>75</td>\n",
       "      <td>419</td>\n",
       "      <td>U.S. Open(2020)</td>\n",
       "      <td>4</td>\n",
       "      <td>9</td>\n",
       "      <td>891</td>\n",
       "      <td>2021</td>\n",
       "    </tr>\n",
       "    <tr>\n",
       "      <th>4</th>\n",
       "      <td>Bryson DeChambeau</td>\n",
       "      <td>83</td>\n",
       "      <td>414</td>\n",
       "      <td>Sentry</td>\n",
       "      <td>2</td>\n",
       "      <td>12</td>\n",
       "      <td>656</td>\n",
       "      <td>2021</td>\n",
       "    </tr>\n",
       "    <tr>\n",
       "      <th>...</th>\n",
       "      <td>...</td>\n",
       "      <td>...</td>\n",
       "      <td>...</td>\n",
       "      <td>...</td>\n",
       "      <td>...</td>\n",
       "      <td>...</td>\n",
       "      <td>...</td>\n",
       "      <td>...</td>\n",
       "    </tr>\n",
       "    <tr>\n",
       "      <th>5317</th>\n",
       "      <td>Lion Kim</td>\n",
       "      <td>2</td>\n",
       "      <td>273</td>\n",
       "      <td>Masters</td>\n",
       "      <td>2</td>\n",
       "      <td>1</td>\n",
       "      <td>14</td>\n",
       "      <td>2011</td>\n",
       "    </tr>\n",
       "    <tr>\n",
       "      <th>5318</th>\n",
       "      <td>Michael Campbell</td>\n",
       "      <td>2</td>\n",
       "      <td>272</td>\n",
       "      <td>U.S. Open</td>\n",
       "      <td>2</td>\n",
       "      <td>1</td>\n",
       "      <td>24</td>\n",
       "      <td>2011</td>\n",
       "    </tr>\n",
       "    <tr>\n",
       "      <th>5319</th>\n",
       "      <td>Beau Hossler</td>\n",
       "      <td>2</td>\n",
       "      <td>270</td>\n",
       "      <td>U.S. Open</td>\n",
       "      <td>1</td>\n",
       "      <td>1</td>\n",
       "      <td>24</td>\n",
       "      <td>2011</td>\n",
       "    </tr>\n",
       "    <tr>\n",
       "      <th>5320</th>\n",
       "      <td>Larry Mize</td>\n",
       "      <td>2</td>\n",
       "      <td>269</td>\n",
       "      <td>Masters</td>\n",
       "      <td>2</td>\n",
       "      <td>1</td>\n",
       "      <td>14</td>\n",
       "      <td>2011</td>\n",
       "    </tr>\n",
       "    <tr>\n",
       "      <th>5321</th>\n",
       "      <td>Ben Crenshaw</td>\n",
       "      <td>2</td>\n",
       "      <td>258</td>\n",
       "      <td>Masters</td>\n",
       "      <td>2</td>\n",
       "      <td>1</td>\n",
       "      <td>14</td>\n",
       "      <td>2011</td>\n",
       "    </tr>\n",
       "  </tbody>\n",
       "</table>\n",
       "<p>5322 rows × 8 columns</p>\n",
       "</div>"
      ],
      "text/plain": [
       "            PLAYER NAME  ROUNDS  DISTANCE       TOURNAMENT  ROUND  HOLE  \\\n",
       "0          Lee Westwood      65       425     Byron Nelson      3     8   \n",
       "1         Cameron Champ      79       424           Sentry      4     7   \n",
       "2           Connor Syme       2       423  U.S. Open(2020)      2     4   \n",
       "3        Dustin Johnson      75       419  U.S. Open(2020)      4     9   \n",
       "4     Bryson DeChambeau      83       414           Sentry      2    12   \n",
       "...                 ...     ...       ...              ...    ...   ...   \n",
       "5317           Lion Kim       2       273          Masters      2     1   \n",
       "5318   Michael Campbell       2       272        U.S. Open      2     1   \n",
       "5319       Beau Hossler       2       270        U.S. Open      1     1   \n",
       "5320         Larry Mize       2       269          Masters      2     1   \n",
       "5321       Ben Crenshaw       2       258          Masters      2     1   \n",
       "\n",
       "      COURSE  YEAR  \n",
       "0        894  2021  \n",
       "1        656  2021  \n",
       "2        891  2021  \n",
       "3        891  2021  \n",
       "4        656  2021  \n",
       "...      ...   ...  \n",
       "5317      14  2011  \n",
       "5318      24  2011  \n",
       "5319      24  2011  \n",
       "5320      14  2011  \n",
       "5321      14  2011  \n",
       "\n",
       "[5322 rows x 8 columns]"
      ]
     },
     "execution_count": 1,
     "metadata": {},
     "output_type": "execute_result"
    }
   ],
   "source": [
    "import pandas as pd\n",
    "import numpy as np\n",
    "import matplotlib.pyplot as plt\n",
    "from importlib import reload\n",
    "data = pd.read_excel('/Users/Owner/OneDrive/Desktop/PGA_Final.xlsx')\n",
    "del data['Unnamed: 0']\n",
    "data"
   ]
  },
  {
   "cell_type": "code",
   "execution_count": 2,
   "metadata": {},
   "outputs": [
    {
     "data": {
      "text/plain": [
       "Text(0.5, 1.0, 'Longest Drive')"
      ]
     },
     "execution_count": 2,
     "metadata": {},
     "output_type": "execute_result"
    },
    {
     "data": {
      "image/png": "[encoded data removed]",
      "text/plain": [
       "<Figure size 3600x360 with 1 Axes>"
      ]
     },
     "metadata": {
      "needs_background": "light"
     },
     "output_type": "display_data"
    }
   ],
   "source": [
    "#avg distance\n",
    "distance=data['DISTANCE']\n",
    "distance_array = np.array(distance)\n",
    "plt.figure(figsize = (50,5))\n",
    "plt.hist(distance_array, bins=5)\n",
    "plt.xlabel('Distance in yds')\n",
    "plt.ylabel('Number of Drives')\n",
    "plt.title('Longest Drive')"
   ]
  },
  {
   "cell_type": "code",
   "execution_count": 3,
   "metadata": {},
   "outputs": [
    {
     "data": {
      "text/plain": [
       "YEAR\n",
       "2011    579\n",
       "2012    580\n",
       "2013    201\n",
       "2014    194\n",
       "2015    202\n",
       "2016    592\n",
       "2017    610\n",
       "2018    626\n",
       "2019    619\n",
       "2020    485\n",
       "2021    634\n",
       "Name: YEAR, dtype: int64"
      ]
     },
     "execution_count": 3,
     "metadata": {},
     "output_type": "execute_result"
    }
   ],
   "source": [
    "#data points in each year\n",
    "years = data.groupby('YEAR')['YEAR'].count()\n",
    "years"
   ]
  },
  {
   "cell_type": "code",
   "execution_count": 4,
   "metadata": {},
   "outputs": [
    {
     "data": {
      "text/plain": [
       "367.22222222222223"
      ]
     },
     "execution_count": 4,
     "metadata": {},
     "output_type": "execute_result"
    }
   ],
   "source": [
    "#average driving distance by each player in past 10 years\n",
    "a=[]\n",
    "for i in data['PLAYER NAME']:\n",
    "    a.append(i)\n",
    "a=pd.unique(a)\n",
    "\n",
    "b=[]\n",
    "\n",
    "for x in a:\n",
    "    players=data[data['PLAYER NAME']== x]\n",
    "    player_dist=players['DISTANCE'].mean()\n",
    "    b.append(player_dist)\n",
    "b\n",
    "\n",
    "player_avg_distance = dict(zip(a,b))\n",
    "player_avg_distance['Tiger Woods']"
   ]
  },
  {
   "cell_type": "code",
   "execution_count": 5,
   "metadata": {},
   "outputs": [
    {
     "data": {
      "text/plain": [
       "35.333333333333336"
      ]
     },
     "execution_count": 5,
     "metadata": {},
     "output_type": "execute_result"
    }
   ],
   "source": [
    "#average rounds played by each player in past 10 years\n",
    "\n",
    "c=[]\n",
    "for i in data['PLAYER NAME']:\n",
    "    c.append(i)\n",
    "c=pd.unique(c)\n",
    "\n",
    "d=[]\n",
    "\n",
    "for x in a:\n",
    "    players=data[data['PLAYER NAME']== x]\n",
    "    player_dist=players['ROUNDS'].mean()\n",
    "    d.append(player_dist)\n",
    "\n",
    "\n",
    "players_rounds = dict(zip(c,d))\n",
    "players_rounds['Tiger Woods']"
   ]
  },
  {
   "cell_type": "code",
   "execution_count": 6,
   "metadata": {},
   "outputs": [
    {
     "data": {
      "text/html": [
       "<div>\n",
       "<style scoped>\n",
       "    .dataframe tbody tr th:only-of-type {\n",
       "        vertical-align: middle;\n",
       "    }\n",
       "\n",
       "    .dataframe tbody tr th {\n",
       "        vertical-align: top;\n",
       "    }\n",
       "\n",
       "    .dataframe thead th {\n",
       "        text-align: right;\n",
       "    }\n",
       "</style>\n",
       "<table border=\"1\" class=\"dataframe\">\n",
       "  <thead>\n",
       "    <tr style=\"text-align: right;\">\n",
       "      <th></th>\n",
       "      <th>ROUNDS</th>\n",
       "      <th>DISTANCE</th>\n",
       "      <th>ROUND</th>\n",
       "      <th>HOLE</th>\n",
       "      <th>COURSE</th>\n",
       "      <th>YEAR</th>\n",
       "    </tr>\n",
       "  </thead>\n",
       "  <tbody>\n",
       "    <tr>\n",
       "      <th>count</th>\n",
       "      <td>5322.000000</td>\n",
       "      <td>5322.000000</td>\n",
       "      <td>5322.000000</td>\n",
       "      <td>5322.000000</td>\n",
       "      <td>5322.000000</td>\n",
       "      <td>5322.000000</td>\n",
       "    </tr>\n",
       "    <tr>\n",
       "      <th>mean</th>\n",
       "      <td>33.889515</td>\n",
       "      <td>346.966366</td>\n",
       "      <td>2.039835</td>\n",
       "      <td>8.883127</td>\n",
       "      <td>499.229989</td>\n",
       "      <td>2016.454904</td>\n",
       "    </tr>\n",
       "    <tr>\n",
       "      <th>std</th>\n",
       "      <td>35.275342</td>\n",
       "      <td>31.728626</td>\n",
       "      <td>1.040033</td>\n",
       "      <td>5.835097</td>\n",
       "      <td>313.659488</td>\n",
       "      <td>3.294014</td>\n",
       "    </tr>\n",
       "    <tr>\n",
       "      <th>min</th>\n",
       "      <td>1.000000</td>\n",
       "      <td>243.000000</td>\n",
       "      <td>1.000000</td>\n",
       "      <td>1.000000</td>\n",
       "      <td>4.000000</td>\n",
       "      <td>2011.000000</td>\n",
       "    </tr>\n",
       "    <tr>\n",
       "      <th>25%</th>\n",
       "      <td>2.000000</td>\n",
       "      <td>325.000000</td>\n",
       "      <td>1.000000</td>\n",
       "      <td>3.000000</td>\n",
       "      <td>104.000000</td>\n",
       "      <td>2013.000000</td>\n",
       "    </tr>\n",
       "    <tr>\n",
       "      <th>50%</th>\n",
       "      <td>13.000000</td>\n",
       "      <td>350.000000</td>\n",
       "      <td>2.000000</td>\n",
       "      <td>9.000000</td>\n",
       "      <td>656.000000</td>\n",
       "      <td>2017.000000</td>\n",
       "    </tr>\n",
       "    <tr>\n",
       "      <th>75%</th>\n",
       "      <td>70.000000</td>\n",
       "      <td>369.000000</td>\n",
       "      <td>3.000000</td>\n",
       "      <td>14.000000</td>\n",
       "      <td>752.000000</td>\n",
       "      <td>2019.000000</td>\n",
       "    </tr>\n",
       "    <tr>\n",
       "      <th>max</th>\n",
       "      <td>127.000000</td>\n",
       "      <td>463.000000</td>\n",
       "      <td>4.000000</td>\n",
       "      <td>18.000000</td>\n",
       "      <td>902.000000</td>\n",
       "      <td>2021.000000</td>\n",
       "    </tr>\n",
       "  </tbody>\n",
       "</table>\n",
       "</div>"
      ],
      "text/plain": [
       "            ROUNDS     DISTANCE        ROUND         HOLE       COURSE  \\\n",
       "count  5322.000000  5322.000000  5322.000000  5322.000000  5322.000000   \n",
       "mean     33.889515   346.966366     2.039835     8.883127   499.229989   \n",
       "std      35.275342    31.728626     1.040033     5.835097   313.659488   \n",
       "min       1.000000   243.000000     1.000000     1.000000     4.000000   \n",
       "25%       2.000000   325.000000     1.000000     3.000000   104.000000   \n",
       "50%      13.000000   350.000000     2.000000     9.000000   656.000000   \n",
       "75%      70.000000   369.000000     3.000000    14.000000   752.000000   \n",
       "max     127.000000   463.000000     4.000000    18.000000   902.000000   \n",
       "\n",
       "              YEAR  \n",
       "count  5322.000000  \n",
       "mean   2016.454904  \n",
       "std       3.294014  \n",
       "min    2011.000000  \n",
       "25%    2013.000000  \n",
       "50%    2017.000000  \n",
       "75%    2019.000000  \n",
       "max    2021.000000  "
      ]
     },
     "execution_count": 6,
     "metadata": {},
     "output_type": "execute_result"
    }
   ],
   "source": [
    "df_numerical = data._get_numeric_data()\n",
    "df_numerical.describe()"
   ]
  },
  {
   "cell_type": "code",
   "execution_count": 7,
   "metadata": {},
   "outputs": [
    {
     "data": {
      "text/plain": [
       "357.75"
      ]
     },
     "execution_count": 7,
     "metadata": {},
     "output_type": "execute_result"
    }
   ],
   "source": [
    "#average distance by each tournament\n",
    "\n",
    "e=[]\n",
    "for i in data['TOURNAMENT']:\n",
    "    e.append(i)\n",
    "e=pd.unique(e)\n",
    "\n",
    "f=[]\n",
    "\n",
    "for x in e:\n",
    "    players=data[data['TOURNAMENT']== x]\n",
    "    player_dist=round(players['DISTANCE'].mean(),2)\n",
    "    f.append(player_dist)\n",
    "\n",
    "\n",
    "tournament = dict(zip(e,f))\n",
    "tournament['Phoenix Open']"
   ]
  },
  {
   "cell_type": "code",
   "execution_count": 8,
   "metadata": {},
   "outputs": [
    {
     "data": {
      "text/plain": [
       "322"
      ]
     },
     "execution_count": 8,
     "metadata": {},
     "output_type": "execute_result"
    }
   ],
   "source": [
    "#average driving distance by each player in past 10 years\n",
    "a=[]\n",
    "for i in data['PLAYER NAME']:\n",
    "    a.append(i)\n",
    "a=pd.unique(a)\n",
    "\n",
    "b=[]\n",
    "bb=[]\n",
    "\n",
    "for x in a:\n",
    "    players=data[data['PLAYER NAME']== x]\n",
    "    player_dist_max=players['DISTANCE'].max()\n",
    "    player_dist_min=players['DISTANCE'].min()\n",
    "    b.append(player_dist_min)\n",
    "    bb.append(player_dist_max)\n",
    "\n",
    "\n",
    "dist_min = dict(zip(a,b))\n",
    "dist_max = dict(zip(a,bb))\n",
    "dist_min['Tiger Woods'] "
   ]
  },
  {
   "cell_type": "code",
   "execution_count": 9,
   "metadata": {},
   "outputs": [
    {
     "data": {
      "text/plain": [
       "<BarContainer object of 9 artists>"
      ]
     },
     "execution_count": 9,
     "metadata": {},
     "output_type": "execute_result"
    },
    {
     "data": {
      "image/png": "[encoded data removed]",
      "text/plain": [
       "<Figure size 432x288 with 1 Axes>"
      ]
     },
     "metadata": {
      "needs_background": "light"
     },
     "output_type": "display_data"
    }
   ],
   "source": [
    "#tiger woods driving distance past 10 years\n",
    "tw=data[data['PLAYER NAME']=='Tiger Woods']\n",
    "x= tw.groupby('YEAR')['DISTANCE'].mean()\n",
    "y=np.unique(tw['YEAR'])\n",
    "plt.bar(y,x)"
   ]
  },
  {
   "cell_type": "code",
   "execution_count": 10,
   "metadata": {},
   "outputs": [
    {
     "name": "stdin",
     "output_type": "stream",
     "text": [
      "Player Name Justin Thomas\n"
     ]
    },
    {
     "name": "stdout",
     "output_type": "stream",
     "text": [
      "{'min': 347, 'max': 449, 'avg': 390.67}\n"
     ]
    }
   ],
   "source": [
    "#finding the min, max and avg longest drive for a given player\n",
    "output=[]\n",
    "test = ['min','max','avg']\n",
    "name=input('Player Name')\n",
    "output.append(dist_min[name])\n",
    "output.append(dist_max[name])\n",
    "output.append(round(player_avg_distance[name],2))\n",
    "\n",
    "print(dict(zip(test,output)))\n"
   ]
  },
  {
   "cell_type": "code",
   "execution_count": 11,
   "metadata": {},
   "outputs": [
    {
     "name": "stdout",
     "output_type": "stream",
     "text": [
      "['3M Open' 'AT&T National' 'AT&T Pebble' 'Arnold Palmer' 'BMW Champ'\n",
      " 'Barbasol' 'Barbasol Champ' 'Bermuda' 'Bob Hope' 'Byron Nelson'\n",
      " 'Canadian Open' 'CareerBuilder' 'Charles Schwab' \"Children's MNHC\"\n",
      " 'Crowne Plaza' 'DEAN & DELUCA' 'Desert Classic' 'Deutsche Bank' 'Farmers'\n",
      " 'Farmers Ins' 'Farmers Ins.' 'Fort Worth Invt' 'Frys.com Open' 'Genesis'\n",
      " 'Genesis Open' 'HP Byron Nelson' 'Honda' 'Honda Classic' 'Houston Open'\n",
      " 'Humana' 'Hyundai T of C' 'J. Timberlake' 'JT Shriners' 'John Deere'\n",
      " 'John Deere Clas' 'Masters' 'Masters (2020)' 'Masters (2021)' 'Mayakoba'\n",
      " 'Memorial Tourn' 'NORTHERN TRUST' 'Northern Trust' 'PGA Champ'\n",
      " 'PGA Championshi' 'Palmetto' 'Pebble Beach' 'Phoenix Open' 'Puerto Rico'\n",
      " 'Puntacana' 'Puntacana(2020)' 'Puntacana(2021)' 'Quicken Loans'\n",
      " 'RBC Canadian' 'RBC Heritage' 'Reno-Tahoe Open' 'Rocket Mortgage'\n",
      " 'Safeway Open' 'Sanderson Farms' 'Sentry' 'Sentry T of C' 'Shell Houston'\n",
      " 'Shriners' 'Shriners Hosp' 'Shriners Hosp.' 'Sony Open' 'St. Jude'\n",
      " 'T of C' 'THE CJ CUP' 'THE PLAYERS' 'TOUR Champ' 'Tampa Bay' 'Texas Open'\n",
      " 'The Amex' 'The Barclays' 'The Greenbrier' 'The Heritage' 'The McGladrey'\n",
      " 'The Open' 'The RSM Classic' 'Transitions Chp' 'Travelers'\n",
      " 'Travelers Champ' 'True South Cl' 'U.S. Open' 'U.S. Open(2020)'\n",
      " 'U.S. Open(2021)' 'Valero' 'Valspar' 'Valspar Champ' 'Viking Classic'\n",
      " 'WGC-Bridgestone' 'WGC-Cadillac' 'WGC-FedEx' 'WGC-HSBC Champ'\n",
      " 'WGC-HSBC Champ.' 'WGC-Mexico' 'WGC-Workday' 'Wells Fargo' 'Workday'\n",
      " 'Wyndham' 'Wyndham Champ' 'Wyndham Champ.' 'ZOZO' 'Zurich Classic'\n",
      " 'the Memorial']\n"
     ]
    },
    {
     "name": "stdin",
     "output_type": "stream",
     "text": [
      "Tournament Name 3M Open\n"
     ]
    },
    {
     "name": "stdout",
     "output_type": "stream",
     "text": [
      "[348.03]\n"
     ]
    }
   ],
   "source": [
    "#what is the longest drive at a given tournament\n",
    "tourn=[]\n",
    "print(np.unique(data['TOURNAMENT']))\n",
    "t=input('Tournament Name')\n",
    "tourn.append(tournament[t])\n",
    "print(tourn)"
   ]
  },
  {
   "cell_type": "code",
   "execution_count": null,
   "metadata": {},
   "outputs": [],
   "source": [
    "#input a player name and return longest drive over past 10 years\n",
    "playername= input('Player Name')\n",
    "abc=data[data['PLAYER NAME']==playername]\n",
    "xxx= abc.groupby('YEAR')['DISTANCE'].mean()\n",
    "yyy=np.unique(abc['YEAR'])\n",
    "plt.bar(yyy,xxx)"
   ]
  },
  {
   "cell_type": "code",
   "execution_count": null,
   "metadata": {},
   "outputs": [],
   "source": []
  },
  {
   "cell_type": "code",
   "execution_count": null,
   "metadata": {},
   "outputs": [],
   "source": []
  }
 ],
 "metadata": {
  "kernelspec": {
   "display_name": "Python 3",
   "language": "python",
   "name": "python3"
  },
  "language_info": {
   "codemirror_mode": {
    "name": "ipython",
    "version": 3
   },
   "file_extension": ".py",
   "mimetype": "text/x-python",
   "name": "python",
   "nbconvert_exporter": "python",
   "pygments_lexer": "ipython3",
   "version": "3.8.5"
  }
 },
 "nbformat": 4,
 "nbformat_minor": 4
}
